{
 "cells": [
  {
   "cell_type": "code",
   "execution_count": 16,
   "id": "17e9ac2e-61a3-44aa-b82c-d4f558696e8a",
   "metadata": {},
   "outputs": [
    {
     "name": "stdout",
     "output_type": "stream",
     "text": [
      "Delimiter successfully changed and written to 'bluetooth_0.csv'.\n"
     ]
    }
   ],
   "source": [
    "import csv\n",
    "\n",
    "input_file = 'bluetooth.csv'\n",
    "output_file = 'bluetooth_0.csv'\n",
    "\n",
    "original_delimiter = ' '\n",
    "new_delimiter = ','\n",
    "\n",
    "try:\n",
    "    with open(input_file, 'r') as infile, open(output_file, 'w', newline='') as outfile:\n",
    "        reader = csv.reader(infile, delimiter=original_delimiter)\n",
    "        writer = csv.writer(outfile, delimiter=new_delimiter)\n",
    "\n",
    "        for row in reader:\n",
    "            new_row = []\n",
    "            i = 0\n",
    "            while i < len(row):\n",
    "                if row[i] in ['TV', '[TV]'] and i + 4 < len(row):\n",
    "                    group = ' '.join(row[i:i+5])\n",
    "                    new_row.append(group)\n",
    "                    i += 5\n",
    "                else:\n",
    "                    new_row.append(row[i])\n",
    "                    i += 1\n",
    "            writer.writerow(new_row)\n",
    "\n",
    "    print(f\"Delimiter successfully changed and written to '{output_file}'.\")\n",
    "\n",
    "except FileNotFoundError:\n",
    "    print(f\"Error: The file '{input_file}' was not found.\")\n",
    "except Exception as e:\n",
    "    print(f\"An error occurred: {e}\")\n",
    "\n"
   ]
  },
  {
   "cell_type": "code",
   "execution_count": null,
   "id": "27d7af1a-3f8f-4eb6-a90c-d7eb67db9871",
   "metadata": {},
   "outputs": [],
   "source": []
  }
 ],
 "metadata": {
  "kernelspec": {
   "display_name": "Python [conda env:base] *",
   "language": "python",
   "name": "conda-base-py"
  },
  "language_info": {
   "codemirror_mode": {
    "name": "ipython",
    "version": 3
   },
   "file_extension": ".py",
   "mimetype": "text/x-python",
   "name": "python",
   "nbconvert_exporter": "python",
   "pygments_lexer": "ipython3",
   "version": "3.12.7"
  }
 },
 "nbformat": 4,
 "nbformat_minor": 5
}
